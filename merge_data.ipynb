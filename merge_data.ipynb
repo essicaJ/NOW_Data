{
 "cells": [
  {
   "cell_type": "code",
   "execution_count": null,
   "metadata": {},
   "outputs": [],
   "source": [
    "import re\n",
    "import string\n",
    "import os"
   ]
  },
  {
   "cell_type": "code",
   "execution_count": null,
   "metadata": {},
   "outputs": [],
   "source": [
    "def parse_line(line):\n",
    "    match = re.match(r'(\\@\\@\\d+)(.*)', line)\n",
    "    if match:\n",
    "        return match.groups()\n",
    "    return None, None\n",
    "\n",
    "# Read the file and process each line\n",
    "def read_textfile(filename):    \n",
    "    data = []\n",
    "    with open(filename, 'r') as file:\n",
    "        for line in file:\n",
    "            id, text = parse_line(line)\n",
    "            if id:\n",
    "                id = id.replace('@', '')\n",
    "            if id and text:\n",
    "                data.append({'ID': id, 'Text': text})\n",
    "    return data"
   ]
  },
  {
   "cell_type": "code",
   "execution_count": null,
   "metadata": {},
   "outputs": [],
   "source": [
    "# Example: Read US files in 2020-01\n",
    "us1 = pd.DataFrame(read_textfile('20-01-us1.txt'))\n",
    "us2 = pd.DataFrame(read_textfile('20-01-us2.txt'))\n",
    "us3 = pd.DataFrame(read_textfile('20-01-us3.txt'))\n",
    "us4 = pd.DataFrame(read_textfile('20-01-us4.txt'))\n",
    "us5 = pd.DataFrame(read_textfile('20-01-us5.txt'))\n",
    "us6 = pd.DataFrame(read_textfile('20-01-us6.txt'))\n",
    "us7 = pd.DataFrame(read_textfile('20-01-us7.txt'))\n",
    "us8 = pd.DataFrame(read_textfile('20-01-us8.txt'))"
   ]
  },
  {
   "cell_type": "code",
   "execution_count": null,
   "metadata": {},
   "outputs": [],
   "source": [
    "us = pd.concat([us1, us2, us3, us4, us5, us6, us7, us8], ignore_index=True)"
   ]
  },
  {
   "cell_type": "code",
   "execution_count": null,
   "metadata": {},
   "outputs": [],
   "source": [
    "us.rename(columns={'ID':'textID'}, inplace=True)"
   ]
  },
  {
   "cell_type": "code",
   "execution_count": null,
   "metadata": {},
   "outputs": [],
   "source": [
    "source = pd.read_csv('now-sources-2020.txt', delimiter= '\\t',header=None, dtype=str, encoding='ISO-8859-1')"
   ]
  },
  {
   "cell_type": "code",
   "execution_count": null,
   "metadata": {},
   "outputs": [],
   "source": [
    "source.rename(columns={0:'textID', 1:'#ofwords', 2:'Date', 3:'Country', 4:'Publisher', 5:'URL', 6:'Title'}, inplace=True)"
   ]
  },
  {
   "cell_type": "code",
   "execution_count": null,
   "metadata": {},
   "outputs": [],
   "source": [
    "full_data = pd.merge(us, source, on='textID', how='left')"
   ]
  }
 ],
 "metadata": {
  "language_info": {
   "name": "python"
  }
 },
 "nbformat": 4,
 "nbformat_minor": 2
}
